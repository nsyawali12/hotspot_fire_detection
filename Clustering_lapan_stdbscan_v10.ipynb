{
  "nbformat": 4,
  "nbformat_minor": 0,
  "metadata": {
    "colab": {
      "name": "Clustering_lapan_stdbscan_v10.ipynb",
      "provenance": [],
      "collapsed_sections": []
    },
    "kernelspec": {
      "name": "python3",
      "display_name": "Python 3"
    },
    "language_info": {
      "name": "python"
    }
  },
  "cells": [
    {
      "cell_type": "code",
      "metadata": {
        "colab": {
          "base_uri": "https://localhost:8080/"
        },
        "id": "XZh0_tEPeE4U",
        "outputId": "c1ef060a-2bf3-4957-8070-92df5cc78106"
      },
      "source": [
        "!pip install folium\n",
        "!pip install git+https://github.com/ulikoehler/UliEngineering.git"
      ],
      "execution_count": 1,
      "outputs": [
        {
          "output_type": "stream",
          "name": "stdout",
          "text": [
            "Requirement already satisfied: folium in /usr/local/lib/python3.7/dist-packages (0.8.3)\n",
            "Requirement already satisfied: branca>=0.3.0 in /usr/local/lib/python3.7/dist-packages (from folium) (0.4.2)\n",
            "Requirement already satisfied: six in /usr/local/lib/python3.7/dist-packages (from folium) (1.15.0)\n",
            "Requirement already satisfied: requests in /usr/local/lib/python3.7/dist-packages (from folium) (2.23.0)\n",
            "Requirement already satisfied: numpy in /usr/local/lib/python3.7/dist-packages (from folium) (1.19.5)\n",
            "Requirement already satisfied: jinja2 in /usr/local/lib/python3.7/dist-packages (from folium) (2.11.3)\n",
            "Requirement already satisfied: MarkupSafe>=0.23 in /usr/local/lib/python3.7/dist-packages (from jinja2->folium) (2.0.1)\n",
            "Requirement already satisfied: chardet<4,>=3.0.2 in /usr/local/lib/python3.7/dist-packages (from requests->folium) (3.0.4)\n",
            "Requirement already satisfied: urllib3!=1.25.0,!=1.25.1,<1.26,>=1.21.1 in /usr/local/lib/python3.7/dist-packages (from requests->folium) (1.24.3)\n",
            "Requirement already satisfied: certifi>=2017.4.17 in /usr/local/lib/python3.7/dist-packages (from requests->folium) (2021.10.8)\n",
            "Requirement already satisfied: idna<3,>=2.5 in /usr/local/lib/python3.7/dist-packages (from requests->folium) (2.10)\n",
            "Collecting git+https://github.com/ulikoehler/UliEngineering.git\n",
            "  Cloning https://github.com/ulikoehler/UliEngineering.git to /tmp/pip-req-build-dbnwe0t9\n",
            "  Running command git clone -q https://github.com/ulikoehler/UliEngineering.git /tmp/pip-req-build-dbnwe0t9\n",
            "Requirement already satisfied: numpy>=1.5 in /usr/local/lib/python3.7/dist-packages (from UliEngineering==0.3.6) (1.19.5)\n",
            "Requirement already satisfied: toolz>=0.5 in /usr/local/lib/python3.7/dist-packages (from UliEngineering==0.3.6) (0.11.2)\n"
          ]
        }
      ]
    },
    {
      "cell_type": "code",
      "metadata": {
        "id": "soF3rNyAf2q0"
      },
      "source": [
        "# Import all\n",
        "import numpy as np\n",
        "import pandas as pd\n",
        "from sklearn.cluster import DBSCAN\n",
        "from collections import Counter\n",
        "from sklearn.preprocessing import StandardScaler\n",
        "import matplotlib.pyplot as plt\n",
        "from pylab import rcParams\n",
        "\n",
        "import folium\n",
        "from folium import features\n",
        "\n",
        "rcParams['figure.figsize'] = 14, 6\n",
        "\n",
        "%matplotlib inline"
      ],
      "execution_count": 2,
      "outputs": []
    },
    {
      "cell_type": "markdown",
      "metadata": {
        "id": "tfgcomu5g29O"
      },
      "source": [
        "### Load Dataset"
      ]
    },
    {
      "cell_type": "code",
      "metadata": {
        "colab": {
          "resources": {
            "http://localhost:8080/nbextensions/google.colab/files.js": {
              "data": "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",
              "ok": true,
              "headers": [
                [
                  "content-type",
                  "application/javascript"
                ]
              ],
              "status": 200,
              "status_text": ""
            }
          },
          "base_uri": "https://localhost:8080/",
          "height": 73
        },
        "id": "yR9-LE7-hNgr",
        "outputId": "ef811c3a-88f9-4445-899e-19f55910e9bb"
      },
      "source": [
        "from google.colab import files\n",
        "uploaded = files.upload()"
      ],
      "execution_count": null,
      "outputs": [
        {
          "output_type": "display_data",
          "data": {
            "text/html": [
              "\n",
              "     <input type=\"file\" id=\"files-dc0b7632-984e-4feb-b3fb-b64a08ccf235\" name=\"files[]\" multiple disabled\n",
              "        style=\"border:none\" />\n",
              "     <output id=\"result-dc0b7632-984e-4feb-b3fb-b64a08ccf235\">\n",
              "      Upload widget is only available when the cell has been executed in the\n",
              "      current browser session. Please rerun this cell to enable.\n",
              "      </output>\n",
              "      <script src=\"/nbextensions/google.colab/files.js\"></script> "
            ],
            "text/plain": [
              "<IPython.core.display.HTML object>"
            ]
          },
          "metadata": {}
        },
        {
          "output_type": "stream",
          "name": "stdout",
          "text": [
            "Saving lapan_hotspot_24_nov.csv to lapan_hotspot_24_nov.csv\n"
          ]
        }
      ]
    },
    {
      "cell_type": "code",
      "metadata": {
        "colab": {
          "base_uri": "https://localhost:8080/",
          "height": 365
        },
        "id": "yD1YMbopg2jG",
        "outputId": "37d5df4a-ce2c-47f5-ff89-a650718744ae"
      },
      "source": [
        "# Read CSV File with Geographical data\n",
        "data = pd.read_csv('lapan_hotspot_24_nov.csv', sep=\",\")\n",
        "data.head()"
      ],
      "execution_count": 3,
      "outputs": [
        {
          "output_type": "execute_result",
          "data": {
            "text/html": [
              "<div>\n",
              "<style scoped>\n",
              "    .dataframe tbody tr th:only-of-type {\n",
              "        vertical-align: middle;\n",
              "    }\n",
              "\n",
              "    .dataframe tbody tr th {\n",
              "        vertical-align: top;\n",
              "    }\n",
              "\n",
              "    .dataframe thead th {\n",
              "        text-align: right;\n",
              "    }\n",
              "</style>\n",
              "<table border=\"1\" class=\"dataframe\">\n",
              "  <thead>\n",
              "    <tr style=\"text-align: right;\">\n",
              "      <th></th>\n",
              "      <th>id</th>\n",
              "      <th>tanggal (WIB)</th>\n",
              "      <th>waktu (WIB)</th>\n",
              "      <th>lintang</th>\n",
              "      <th>bujur</th>\n",
              "      <th>tingkat kepercayaan</th>\n",
              "      <th>satelit</th>\n",
              "      <th>radius kemungkinan</th>\n",
              "      <th>kecamatan</th>\n",
              "      <th>kabupaten</th>\n",
              "      <th>provinsi</th>\n",
              "      <th>tipe</th>\n",
              "    </tr>\n",
              "  </thead>\n",
              "  <tbody>\n",
              "    <tr>\n",
              "      <th>0</th>\n",
              "      <td>3561502</td>\n",
              "      <td>2021-11-24</td>\n",
              "      <td>12:34:00</td>\n",
              "      <td>-3.877416</td>\n",
              "      <td>122.399963</td>\n",
              "      <td>8</td>\n",
              "      <td>aqua</td>\n",
              "      <td>3000</td>\n",
              "      <td>Bondoala</td>\n",
              "      <td>Konawe</td>\n",
              "      <td>Sulawesi Tenggara</td>\n",
              "      <td>Cluster</td>\n",
              "    </tr>\n",
              "    <tr>\n",
              "      <th>1</th>\n",
              "      <td>3561501</td>\n",
              "      <td>2021-11-24</td>\n",
              "      <td>12:34:00</td>\n",
              "      <td>-4.287866</td>\n",
              "      <td>119.960716</td>\n",
              "      <td>8</td>\n",
              "      <td>aqua</td>\n",
              "      <td>3000</td>\n",
              "      <td>Ganra</td>\n",
              "      <td>Soppeng</td>\n",
              "      <td>Sulawesi Selatan</td>\n",
              "      <td>Cluster</td>\n",
              "    </tr>\n",
              "    <tr>\n",
              "      <th>2</th>\n",
              "      <td>3561503</td>\n",
              "      <td>2021-11-24</td>\n",
              "      <td>12:34:00</td>\n",
              "      <td>-2.787812</td>\n",
              "      <td>120.276352</td>\n",
              "      <td>8</td>\n",
              "      <td>aqua</td>\n",
              "      <td>3000</td>\n",
              "      <td>Malangke Barat</td>\n",
              "      <td>Luwu Utara</td>\n",
              "      <td>Sulawesi Selatan</td>\n",
              "      <td>Cluster</td>\n",
              "    </tr>\n",
              "    <tr>\n",
              "      <th>3</th>\n",
              "      <td>3561484</td>\n",
              "      <td>2021-11-24</td>\n",
              "      <td>00:18:56</td>\n",
              "      <td>-10.155959</td>\n",
              "      <td>124.327354</td>\n",
              "      <td>8</td>\n",
              "      <td>noaa20</td>\n",
              "      <td>1125</td>\n",
              "      <td>Amanuban Selatan</td>\n",
              "      <td>Timor Tengah Selatan</td>\n",
              "      <td>Nusa Tenggara Timur</td>\n",
              "      <td>Cluster</td>\n",
              "    </tr>\n",
              "    <tr>\n",
              "      <th>4</th>\n",
              "      <td>3561497</td>\n",
              "      <td>2021-11-24</td>\n",
              "      <td>11:17:32</td>\n",
              "      <td>-9.827483</td>\n",
              "      <td>124.752777</td>\n",
              "      <td>8</td>\n",
              "      <td>noaa20</td>\n",
              "      <td>1280</td>\n",
              "      <td>Amanatun Selatan</td>\n",
              "      <td>Timor Tengah Selatan</td>\n",
              "      <td>Nusa Tenggara Timur</td>\n",
              "      <td>Cluster</td>\n",
              "    </tr>\n",
              "  </tbody>\n",
              "</table>\n",
              "</div>"
            ],
            "text/plain": [
              "        id tanggal (WIB)  ...             provinsi     tipe\n",
              "0  3561502    2021-11-24  ...    Sulawesi Tenggara  Cluster\n",
              "1  3561501    2021-11-24  ...     Sulawesi Selatan  Cluster\n",
              "2  3561503    2021-11-24  ...     Sulawesi Selatan  Cluster\n",
              "3  3561484    2021-11-24  ...  Nusa Tenggara Timur  Cluster\n",
              "4  3561497    2021-11-24  ...  Nusa Tenggara Timur  Cluster\n",
              "\n",
              "[5 rows x 12 columns]"
            ]
          },
          "metadata": {},
          "execution_count": 3
        }
      ]
    },
    {
      "cell_type": "code",
      "metadata": {
        "colab": {
          "base_uri": "https://localhost:8080/"
        },
        "id": "xEsUY9nojPN3",
        "outputId": "2ab6ffd1-7298-4db5-9661-15ac92b18823"
      },
      "source": [
        "data.info()"
      ],
      "execution_count": 4,
      "outputs": [
        {
          "output_type": "stream",
          "name": "stdout",
          "text": [
            "<class 'pandas.core.frame.DataFrame'>\n",
            "RangeIndex: 65 entries, 0 to 64\n",
            "Data columns (total 12 columns):\n",
            " #   Column               Non-Null Count  Dtype  \n",
            "---  ------               --------------  -----  \n",
            " 0   id                   65 non-null     int64  \n",
            " 1   tanggal (WIB)        65 non-null     object \n",
            " 2   waktu (WIB)          65 non-null     object \n",
            " 3   lintang              65 non-null     float64\n",
            " 4   bujur                65 non-null     float64\n",
            " 5   tingkat kepercayaan  65 non-null     int64  \n",
            " 6   satelit              65 non-null     object \n",
            " 7   radius kemungkinan   65 non-null     int64  \n",
            " 8   kecamatan            65 non-null     object \n",
            " 9   kabupaten            65 non-null     object \n",
            " 10  provinsi             65 non-null     object \n",
            " 11  tipe                 65 non-null     object \n",
            "dtypes: float64(2), int64(3), object(7)\n",
            "memory usage: 6.2+ KB\n"
          ]
        }
      ]
    },
    {
      "cell_type": "code",
      "metadata": {
        "colab": {
          "base_uri": "https://localhost:8080/",
          "height": 312
        },
        "id": "Wwb38XdYjY8K",
        "outputId": "58f3cf94-cdb4-4baa-f2a0-e73cf136698b"
      },
      "source": [
        "# Plot the geographical points\n",
        "_ = plt.plot(data['bujur'], data['lintang'],\n",
        "             marker='.', linewidth=0, color='#128128')\n",
        "_ = plt.grid(which='major', color='#cccccc', alpha=0.45)\n",
        "_ = plt.title('Geographical distribution of GPS tracker', family=\"Arial\", fontsize=12)\n",
        "_ = plt.xlabel('bujur')\n",
        "_ = plt.ylabel('lintang')\n",
        "_ = plt.show()"
      ],
      "execution_count": 5,
      "outputs": [
        {
          "output_type": "stream",
          "name": "stderr",
          "text": [
            "findfont: Font family ['Arial'] not found. Falling back to DejaVu Sans.\n"
          ]
        },
        {
          "output_type": "display_data",
          "data": {
            "image/png": "[encoded data removed]",
            "text/plain": [
              "<Figure size 432x288 with 1 Axes>"
            ]
          },
          "metadata": {
            "needs_background": "light"
          }
        }
      ]
    },
    {
      "cell_type": "markdown",
      "metadata": {
        "id": "OZU-66FDfL8t"
      },
      "source": [
        "#### Step 3: Prepare DBSCAN model"
      ]
    },
    {
      "cell_type": "code",
      "metadata": {
        "id": "-jzy3OEsqlXS"
      },
      "source": [
        "# Prepare data for Model\n",
        "dbscan_data = data[['bujur', 'lintang']]\n",
        "dbscan_data = dbscan_data.values.astype('float32', copy=False)"
      ],
      "execution_count": 6,
      "outputs": []
    },
    {
      "cell_type": "code",
      "metadata": {
        "id": "clV0ag6pfSEd"
      },
      "source": [
        "dbscan_data_scalar = StandardScaler().fit(dbscan_data)\n",
        "dbscan_data = dbscan_data_scalar.transform(dbscan_data)"
      ],
      "execution_count": 7,
      "outputs": []
    },
    {
      "cell_type": "code",
      "metadata": {
        "colab": {
          "base_uri": "https://localhost:8080/"
        },
        "id": "lyQnkuwbfmMA",
        "outputId": "c7e4f6c0-8525-4927-c1e2-8c1ec5a300b9"
      },
      "source": [
        "# Construct model\n",
        "'''\n",
        "-- min_samples :: requires a minimum 20 data points in a neightborhood\n",
        "-- eps :: in radius 0.02\n",
        "'''\n",
        "\n",
        "earth_radius_m = 19.36\n",
        "epsilon = 5 / earth_radius_m\n",
        "print(epsilon)\n",
        "\n",
        "model = DBSCAN(eps = epsilon, min_samples=5, metric='euclidean').fit(dbscan_data)\n",
        "model"
      ],
      "execution_count": 8,
      "outputs": [
        {
          "output_type": "stream",
          "name": "stdout",
          "text": [
            "0.2582644628099174\n"
          ]
        },
        {
          "output_type": "execute_result",
          "data": {
            "text/plain": [
              "DBSCAN(eps=0.2582644628099174)"
            ]
          },
          "metadata": {},
          "execution_count": 8
        }
      ]
    },
    {
      "cell_type": "markdown",
      "source": [
        "#### Adding label into original data frame"
      ],
      "metadata": {
        "id": "V6icYj4_Qkfv"
      }
    },
    {
      "cell_type": "code",
      "source": [
        "data['label_cluster'] = model.labels_"
      ],
      "metadata": {
        "id": "j9Y6bwuj5wMs"
      },
      "execution_count": 9,
      "outputs": []
    },
    {
      "cell_type": "code",
      "metadata": {
        "colab": {
          "base_uri": "https://localhost:8080/"
        },
        "id": "cj3aM0DFkjbM",
        "outputId": "08cd2c7f-bc9a-4583-9ebf-2525cef099be"
      },
      "source": [
        "# Separate outliers from clustered data\n",
        "outliers_df = data[model.labels_ == -1]\n",
        "clusters_df = data[model.labels_ != -1]\n",
        "\n",
        "colors = model.labels_\n",
        "colors_clusters = colors[colors != -1]\n",
        "color_outliers = 'black'\n",
        "\n",
        "# Get info about the clusters\n",
        "clusters = Counter(model.labels_)\n",
        "print(clusters)\n",
        "print(data[model.labels_ == -1].head())\n",
        "print('Number of clusters = {}'.format(len(clusters)-1))"
      ],
      "execution_count": 10,
      "outputs": [
        {
          "output_type": "stream",
          "name": "stdout",
          "text": [
            "Counter({-1: 27, 0: 21, 1: 12, 2: 5})\n",
            "        id tanggal (WIB)  ...     tipe  label_cluster\n",
            "1  3561501    2021-11-24  ...  Cluster             -1\n",
            "2  3561503    2021-11-24  ...  Cluster             -1\n",
            "5  3561526    2021-11-24  ...  Cluster             -1\n",
            "6  3561496    2021-11-24  ...  Cluster             -1\n",
            "7  3561481    2021-11-24  ...  Cluster             -1\n",
            "\n",
            "[5 rows x 13 columns]\n",
            "Number of clusters = 3\n"
          ]
        }
      ]
    },
    {
      "cell_type": "code",
      "metadata": {
        "colab": {
          "base_uri": "https://localhost:8080/",
          "height": 402
        },
        "id": "-xhj-cWvmtK3",
        "outputId": "3a1baede-e93b-4721-864e-db9a6f4121f4"
      },
      "source": [
        "fig = plt.figure()\n",
        "\n",
        "ax = fig.add_axes([.1, .1, 1, 1])\n",
        "\n",
        "ax.scatter(clusters_df['bujur'], clusters_df['lintang'],\n",
        "           c = colors_clusters, edgecolors='black', s=50)\n",
        "\n",
        "ax.scatter(outliers_df['bujur'], outliers_df['lintang'],\n",
        "           c = color_outliers, edgecolors='green', s=50)\n",
        "\n",
        "ax.set_xlabel('Bujur', family='Arial', fontsize=9)\n",
        "ax.set_ylabel('Lintang', family='Arial', fontsize=9)\n",
        "\n",
        "plt.title('Clustered Hostspot Lapan by DBSCAN algorithm', family='Arial', fontsize=12)\n",
        "plt.grid(which='major', color='#e30022', alpha=0.45)\n",
        "plt.show"
      ],
      "execution_count": 11,
      "outputs": [
        {
          "output_type": "execute_result",
          "data": {
            "text/plain": [
              "<function matplotlib.pyplot.show>"
            ]
          },
          "metadata": {},
          "execution_count": 11
        },
        {
          "output_type": "stream",
          "name": "stderr",
          "text": [
            "findfont: Font family ['Arial'] not found. Falling back to DejaVu Sans.\n"
          ]
        },
        {
          "output_type": "display_data",
          "data": {
            "image/png": "[encoded data removed]",
            "text/plain": [
              "<Figure size 432x288 with 1 Axes>"
            ]
          },
          "metadata": {
            "needs_background": "light"
          }
        }
      ]
    },
    {
      "cell_type": "markdown",
      "source": [
        "#### **Seperating cluster into it's own DataFrame with cluster_label**"
      ],
      "metadata": {
        "id": "KuVSnYdLQrtn"
      }
    },
    {
      "cell_type": "code",
      "source": [
        "num_cluster = clusters_df['label_cluster'].nunique()"
      ],
      "metadata": {
        "id": "nNo_7rK3fJRA"
      },
      "execution_count": 12,
      "outputs": []
    },
    {
      "cell_type": "code",
      "source": [
        "## Separate each cluster to a DataFrame\n",
        "\n",
        "cluster_no = []\n",
        "for n in range(num_cluster):\n",
        " cluster = data.loc[(data['label_cluster']==n)]\n",
        " cluster_no.append(cluster)"
      ],
      "metadata": {
        "id": "5sLmM2Fly4FQ"
      },
      "execution_count": 13,
      "outputs": []
    },
    {
      "cell_type": "markdown",
      "source": [
        "#### **Getting Bounding box from each cluster**"
      ],
      "metadata": {
        "id": "imz5e-CqJaI3"
      }
    },
    {
      "cell_type": "code",
      "metadata": {
        "id": "UJdSdHX82VSS"
      },
      "source": [
        "from UliEngineering.Math.Coordinates import BoundingBox\n",
        "\n",
        "def get_bbox_from_cluster(which_cluster):\n",
        "  cluster_coord = which_cluster[['bujur', 'lintang']]\n",
        "  coords = np.asarray(cluster_coord)\n",
        "  list_coor = BoundingBox(coords)\n",
        "  lonMin = list_coor.minx\n",
        "  latMin = list_coor.miny\n",
        "  lonMax = list_coor.maxx\n",
        "  latMax = list_coor.maxy\n",
        "  bbox = [(latMin, lonMin), (latMax, lonMax)]\n",
        "  return bbox"
      ],
      "execution_count": 21,
      "outputs": []
    },
    {
      "cell_type": "code",
      "source": [
        "## Getting bounding box coordinate from each cluster\n",
        "\n",
        "bbox_each_cluster = []\n",
        "for n_clus in cluster_no:\n",
        "  bbox_cluster = get_bbox_from_cluster(n_clus)\n",
        "  bbox_each_cluster.append(bbox_cluster)"
      ],
      "metadata": {
        "id": "YaV-JlhXGb5v"
      },
      "execution_count": 30,
      "outputs": []
    },
    {
      "cell_type": "code",
      "source": [
        "bbox_each_cluster"
      ],
      "metadata": {
        "colab": {
          "base_uri": "https://localhost:8080/"
        },
        "id": "4uF_T3oeHedw",
        "outputId": "28176182-853c-403d-d13a-1b08b76c438d"
      },
      "execution_count": 31,
      "outputs": [
        {
          "output_type": "execute_result",
          "data": {
            "text/plain": [
              "[[(-5.66710091, 122.154506685), (-2.83345592, 123.20258331)],\n",
              " [(-10.159523010253906, 124.13288116), (-9.439041615, 125.035930635)],\n",
              " [(-8.848724365234375, 118.04803466796876), (-8.14128017, 118.93218231201172)]]"
            ]
          },
          "metadata": {},
          "execution_count": 31
        }
      ]
    },
    {
      "cell_type": "code",
      "source": [
        "def color_label(label):\n",
        "  if label == -1:\n",
        "    color = \"black\"\n",
        "  else:\n",
        "    color = \"red\"\n",
        "  \n",
        "  return color"
      ],
      "metadata": {
        "id": "c0oXd6GyJiok"
      },
      "execution_count": 33,
      "outputs": []
    },
    {
      "cell_type": "code",
      "source": [
        "data['color'] = data['label_cluster'].apply(lambda row: color_label(row))\n",
        "\n",
        "map_NM = folium.Map(location=[data['lintang'].mean(), data['bujur'].mean()],\n",
        "               zoom_start=7,\n",
        "               tiles='openstreetmap',\n",
        "               control_scale=True)\n",
        "\n",
        "for lat, lng, col in zip(data['lintang'],\n",
        "                            data['bujur'],\n",
        "                            data['color'],):\n",
        "    # label = '{}'.format(col)\n",
        "    #label = folium.Popup(label, parse_html=True)\n",
        "    \n",
        "    folium.CircleMarker([lat, lng],\n",
        "    radius=5,\n",
        "    color= col,\n",
        "    fill=True,\n",
        "    fill_color='#3186cc=',\n",
        "    fill_opacity=0.7,\n",
        "    parse_html=False).add_to(map_NM) \n",
        "\n",
        "for n_bbox in bbox_each_cluster:\n",
        "  folium.Rectangle(n_bbox).add_to(map_NM)  \n",
        "\n",
        "\n",
        "    \n",
        "map_NM.save('mapping_cluster.html')"
      ],
      "metadata": {
        "id": "fKYmjgzfJkyJ"
      },
      "execution_count": 35,
      "outputs": []
    }
  ]
}